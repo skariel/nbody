{
 "cells": [
  {
   "cell_type": "code",
   "execution_count": 79,
   "metadata": {
    "collapsed": true
   },
   "outputs": [],
   "source": [
    "using Winston"
   ]
  },
  {
   "cell_type": "code",
   "execution_count": 80,
   "metadata": {
    "collapsed": false
   },
   "outputs": [],
   "source": [
    "arr = randn(1000000);"
   ]
  },
  {
   "cell_type": "code",
   "execution_count": 81,
   "metadata": {
    "collapsed": false
   },
   "outputs": [],
   "source": [
    "heapify!(arr, Base.Order.Reverse);"
   ]
  },
  {
   "cell_type": "code",
   "execution_count": 82,
   "metadata": {
    "collapsed": false
   },
   "outputs": [],
   "source": [
    "@assert arr[1] == maximum(arr) == heappop!(arr, Base.Order.Reverse)"
   ]
  },
  {
   "cell_type": "code",
   "execution_count": 83,
   "metadata": {
    "collapsed": false
   },
   "outputs": [
    {
     "data": {
      "text/plain": [
       "1000000-element Array{Float64,1}:\n",
       "  4.69498  \n",
       "  4.46893  \n",
       "  4.45099  \n",
       "  4.2749   \n",
       "  4.30755  \n",
       "  4.3354   \n",
       "  4.19525  \n",
       "  4.18043  \n",
       "  4.23196  \n",
       "  4.26753  \n",
       "  4.00691  \n",
       "  4.07258  \n",
       "  4.10843  \n",
       "  ⋮        \n",
       " -1.08763  \n",
       " -2.05283  \n",
       " -0.466616 \n",
       " -0.358594 \n",
       " -1.01494  \n",
       " -0.364264 \n",
       " -1.80627  \n",
       " -0.320228 \n",
       " -1.68031  \n",
       " -0.0303395\n",
       "  0.329111 \n",
       "  0.240367 "
      ]
     },
     "execution_count": 83,
     "metadata": {},
     "output_type": "execute_result"
    }
   ],
   "source": [
    "heappush!(arr, 1.0, Base.Order.Reverse)"
   ]
  },
  {
   "cell_type": "code",
   "execution_count": 84,
   "metadata": {
    "collapsed": false
   },
   "outputs": [
    {
     "data": {
      "text/plain": [
       "1000000-element Array{Float64,1}:\n",
       "  4.69498  \n",
       "  4.46893  \n",
       "  4.45099  \n",
       "  4.2749   \n",
       "  4.30755  \n",
       "  4.3354   \n",
       "  4.19525  \n",
       "  4.18043  \n",
       "  4.23196  \n",
       "  4.26753  \n",
       "  4.00691  \n",
       "  4.07258  \n",
       "  4.10843  \n",
       "  ⋮        \n",
       " -1.08763  \n",
       " -2.05283  \n",
       " -0.466616 \n",
       " -0.358594 \n",
       " -1.01494  \n",
       " -0.364264 \n",
       " -1.80627  \n",
       " -0.320228 \n",
       " -1.68031  \n",
       " -0.0303395\n",
       "  0.329111 \n",
       "  0.240367 "
      ]
     },
     "execution_count": 84,
     "metadata": {},
     "output_type": "execute_result"
    }
   ],
   "source": [
    "heapify!(arr, Base.Order.Reverse)"
   ]
  },
  {
   "cell_type": "code",
   "execution_count": 85,
   "metadata": {
    "collapsed": false
   },
   "outputs": [
    {
     "data": {
      "text/plain": [
       "4.694982539242654"
      ]
     },
     "execution_count": 85,
     "metadata": {},
     "output_type": "execute_result"
    }
   ],
   "source": [
    "heappop!(arr)"
   ]
  },
  {
   "cell_type": "code",
   "execution_count": 86,
   "metadata": {
    "collapsed": false
   },
   "outputs": [
    {
     "data": {
      "text/plain": [
       "10-element Array{Float64,1}:\n",
       " -0.914983 \n",
       " -0.406243 \n",
       " -0.0990766\n",
       " -2.06216  \n",
       " -0.917157 \n",
       "  0.343295 \n",
       " -0.148538 \n",
       "  0.125396 \n",
       "  0.279152 \n",
       "  0.391524 "
      ]
     },
     "execution_count": 86,
     "metadata": {},
     "output_type": "execute_result"
    }
   ],
   "source": [
    "randn(10)"
   ]
  },
  {
   "cell_type": "code",
   "execution_count": null,
   "metadata": {
    "collapsed": true
   },
   "outputs": [],
   "source": [
    "heapp"
   ]
  },
  {
   "cell_type": "code",
   "execution_count": 4,
   "metadata": {
    "collapsed": false
   },
   "outputs": [],
   "source": [
    "using Base.Collections"
   ]
  },
  {
   "cell_type": "code",
   "execution_count": 37,
   "metadata": {
    "collapsed": false
   },
   "outputs": [
    {
     "data": {
      "text/plain": [
       "PriorityQueue{Float64,Float64} with 0 entries"
      ]
     },
     "execution_count": 37,
     "metadata": {},
     "output_type": "execute_result"
    }
   ],
   "source": [
    "pq = PriorityQueue{Float64, Float64}(Base.Order.Reverse)"
   ]
  },
  {
   "cell_type": "code",
   "execution_count": 44,
   "metadata": {
    "collapsed": false
   },
   "outputs": [
    {
     "data": {
      "text/plain": [
       "5"
      ]
     },
     "execution_count": 44,
     "metadata": {},
     "output_type": "execute_result"
    }
   ],
   "source": [
    "pq[10]=1\n",
    "pq[20]=2\n",
    "pq[30]=3\n",
    "pq[31]=4\n",
    "pq[31]=5"
   ]
  },
  {
   "cell_type": "code",
   "execution_count": 45,
   "metadata": {
    "collapsed": false
   },
   "outputs": [
    {
     "data": {
      "text/plain": [
       "(31.0,5.0)"
      ]
     },
     "execution_count": 45,
     "metadata": {},
     "output_type": "execute_result"
    }
   ],
   "source": [
    "peek(pq)"
   ]
  },
  {
   "cell_type": "code",
   "execution_count": 46,
   "metadata": {
    "collapsed": false
   },
   "outputs": [
    {
     "data": {
      "text/plain": [
       "PriorityQueue{Float64,Float64} with 4 entries:\n",
       "  30.0 => 3.0\n",
       "  31.0 => 5.0\n",
       "  10.0 => 1.0\n",
       "  20.0 => 2.0"
      ]
     },
     "execution_count": 46,
     "metadata": {},
     "output_type": "execute_result"
    }
   ],
   "source": [
    "pq"
   ]
  },
  {
   "cell_type": "code",
   "execution_count": 96,
   "metadata": {
    "collapsed": false
   },
   "outputs": [
    {
     "data": {
      "text/plain": [
       "64-element Array{Complex{Float64},1}:\n",
       "       1.0+0.0im      \n",
       " -0.995185-0.0980171im\n",
       "  0.980785+0.19509im  \n",
       "  -0.95694-0.290285im \n",
       "   0.92388+0.382683im \n",
       " -0.881921-0.471397im \n",
       "   0.83147+0.55557im  \n",
       "  -0.77301-0.634393im \n",
       "  0.707107+0.707107im \n",
       " -0.634393-0.77301im  \n",
       "   0.55557+0.83147im  \n",
       " -0.471397-0.881921im \n",
       "  0.382683+0.92388im  \n",
       "          ⋮           \n",
       "  0.382683-0.92388im  \n",
       " -0.471397+0.881921im \n",
       "   0.55557-0.83147im  \n",
       " -0.634393+0.77301im  \n",
       "  0.707107-0.707107im \n",
       "  -0.77301+0.634393im \n",
       "   0.83147-0.55557im  \n",
       " -0.881921+0.471397im \n",
       "   0.92388-0.382683im \n",
       "  -0.95694+0.290285im \n",
       "  0.980785-0.19509im  \n",
       " -0.995185+0.0980171im"
      ]
     },
     "execution_count": 96,
     "metadata": {},
     "output_type": "execute_result"
    }
   ],
   "source": [
    "ρx = zeros(64)\n",
    "ρx[32] = 1.0\n",
    "ρk = fft(ρx)\n",
    "ϕk = "
   ]
  },
  {
   "cell_type": "code",
   "execution_count": null,
   "metadata": {
    "collapsed": true
   },
   "outputs": [],
   "source": []
  }
 ],
 "metadata": {
  "kernelspec": {
   "display_name": "Julia 0.3.6",
   "language": "julia",
   "name": "julia 0.3"
  },
  "language_info": {
   "name": "julia",
   "version": "0.3.6"
  }
 },
 "nbformat": 4,
 "nbformat_minor": 0
}
